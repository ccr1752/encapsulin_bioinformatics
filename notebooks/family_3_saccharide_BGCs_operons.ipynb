{
 "cells": [
  {
   "cell_type": "markdown",
   "metadata": {},
   "source": [
    "# Family 3 saccharide BGCs - Visualising Neighbouring Genes (Operon)"
   ]
  },
  {
   "cell_type": "markdown",
   "metadata": {},
   "source": [
    "## Overview:\n",
    "- Importing encapsulin csv files.\n",
    "- Identifying and selecting the relevant Family 3 saccharide BGC information.\n",
    "- Formating Family 3 saccharide BGC dataframes > inserting Family 3 encapsulin info into the +10 to -10 genome neighbourhood.\n",
    "\n",
    "Continue..."
   ]
  },
  {
   "cell_type": "markdown",
   "metadata": {},
   "source": [
    "## Importing encapsulin csv files:"
   ]
  },
  {
   "cell_type": "code",
   "execution_count": 6,
   "metadata": {},
   "outputs": [],
   "source": [
    "import pandas as pd\n",
    "\n",
    "#define file paths\n",
    "enc_path = r'C:\\Users\\Cameron\\OneDrive - University College London\\PhD\\Year 1\\ENCAPSULIN BIOINFORMATICS AND METAGENOMICS\\encapsulin_bioinformatics_repo\\encapsulin_families.csv'\n",
    "enc_operons_path = r'C:\\Users\\Cameron\\OneDrive - University College London\\PhD\\Year 1\\ENCAPSULIN BIOINFORMATICS AND METAGENOMICS\\encapsulin_bioinformatics_repo\\operon_df_filtered.csv'\n",
    "\n",
    "#LEARNING POINT: 'r' prefix is required before the string for python to treat the backslashes literal characters instead of espace characters.\n",
    "\n",
    "#load encapsulin_families.csv file\n",
    "enc = pd.read_csv(enc_path)\n",
    "enc_operons = pd.read_csv(enc_operons_path)\n"
   ]
  },
  {
   "cell_type": "markdown",
   "metadata": {},
   "source": [
    "## Identifying and selecting family 3 saccharide BGC information:"
   ]
  },
  {
   "cell_type": "code",
   "execution_count": 30,
   "metadata": {},
   "outputs": [
    {
     "name": "stdout",
     "output_type": "stream",
     "text": [
      "     Encapsulin MGYP                             Cargo Description\n",
      "0   MGYP001216717877                                Saccharide BGC\n",
      "1   MGYP001412933479                                Saccharide BGC\n",
      "2   MGYP003109322860                                Saccharide BGC\n",
      "3   MGYP003110882604                                Saccharide BGC\n",
      "4   MGYP003113059926                                Saccharide BGC\n",
      "5   MGYP003131024615                                Saccharide BGC\n",
      "6   MGYP003131986813                                Saccharide BGC\n",
      "7   MGYP003134444350                                Saccharide BGC\n",
      "8   MGYP003331015935                                Saccharide BGC\n",
      "9   MGYP003332394819                                Saccharide BGC\n",
      "10  MGYP003341041167                                Saccharide BGC\n",
      "11  MGYP003626144734                                Saccharide BGC\n",
      "12  MGYP003626701920                                Saccharide BGC\n",
      "13  MGYP003638549746                                Saccharide BGC\n",
      "14  MGYP003662477660                                Saccharide BGC\n",
      "15  MGYP003662629166                                Saccharide BGC\n",
      "16  MGYP003662771788                                Saccharide BGC\n",
      "17  MGYP001178754852  Saccharide BGC/Cysteine Desulfurase (Hybrid)\n",
      "18  MGYP003111233400  Saccharide BGC/Cysteine Desulfurase (Hybrid)\n",
      "19  MGYP003111298200  Saccharide BGC/Cysteine Desulfurase (Hybrid)\n",
      "20  MGYP003131404975  Saccharide BGC/Cysteine Desulfurase (Hybrid)\n",
      "21  MGYP003636931262  Saccharide BGC/Cysteine Desulfurase (Hybrid)\n"
     ]
    }
   ],
   "source": [
    "import pandas as pd\n",
    "import numpy as np\n",
    "\n",
    "#select family 3 saccharide BGCs from encapsulin families\n",
    "sacc_BGCs = enc.iloc[173:195]\n",
    "sacc_BGCs.reset_index(drop=True, inplace=True)\n",
    "\n",
    "sacc_BGCs_columns_display = ['Encapsulin MGYP', 'Cargo Description']\n",
    "print(sacc_BGCs[sacc_BGCs_columns_display])\n"
   ]
  },
  {
   "cell_type": "code",
   "execution_count": null,
   "metadata": {},
   "outputs": [],
   "source": [
    "import pandas as pd\n",
    "import numpy as np\n",
    "\n",
    "#display the enc_operon columns for verification\n",
    "#print(enc_operons.columns)\n",
    "\n",
    "#reforming operon dataframe - selecting '+10 to -10' and 'Encapsulin MGYP' columns\n",
    "#gn = genome neighbourhood (surrounding genes)\n",
    "enc_operon_gn = enc_operons[['-10', '-9', '-8', '-7', '-6', '-5', '-4', '-3', '-2', \\\n",
    "     '-1', '1', '2', '3', '4', '5', '6', '7', '8', '9', '10', 'Encapsulin MGYP']]\n",
    "\n",
    "#define saccharide BGC enc. variable\n",
    "list_of_sacc_BGCs = sacc_BGCs['Encapsulin MGYP']\n",
    "\n",
    "#searching and selecting family 3 sacc. BCG operons\n",
    "sacc_BGCs_operon_gn = enc_operon_gn[enc_operon_gn['Encapsulin MGYP'].isin(list_of_sacc_BGCs)]\n",
    "sacc_BGCs_operon_gn.reset_index(drop=True, inplace=True)\n",
    "\n",
    "print(sacc_BGCs_operon_gn)"
   ]
  },
  {
   "cell_type": "markdown",
   "metadata": {},
   "source": []
  }
 ],
 "metadata": {
  "kernelspec": {
   "display_name": "Python 3",
   "language": "python",
   "name": "python3"
  },
  "language_info": {
   "codemirror_mode": {
    "name": "ipython",
    "version": 3
   },
   "file_extension": ".py",
   "mimetype": "text/x-python",
   "name": "python",
   "nbconvert_exporter": "python",
   "pygments_lexer": "ipython3",
   "version": "3.11.6"
  }
 },
 "nbformat": 4,
 "nbformat_minor": 2
}
