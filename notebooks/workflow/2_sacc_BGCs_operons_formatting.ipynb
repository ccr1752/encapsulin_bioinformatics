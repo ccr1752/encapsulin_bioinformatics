{
 "cells": [
  {
   "cell_type": "markdown",
   "metadata": {},
   "source": [
    "# Family 3 saccharide BGCs - Visualising Neighbouring Genes (Operon)"
   ]
  },
  {
   "cell_type": "markdown",
   "metadata": {},
   "source": [
    "## Overview:\n",
    "- Importing encapsulin csv files.\n",
    "- Identifying and selecting the relevant Family 3 saccharide BGC information.\n",
    "- Formating Family 3 saccharide BGC dataframes:\n",
    "    - ..."
   ]
  },
  {
   "cell_type": "markdown",
   "metadata": {},
   "source": [
    "## Importing encapsulin csv files:"
   ]
  },
  {
   "cell_type": "markdown",
   "metadata": {},
   "source": [
    "**Import the important files of:**\n",
    "- **enc = dataframe with all putative encapsulins discovered.**\n",
    "- **enc_operon = datatframe with all putative encapsulins discovered with their surrounding genes and associated Pfam annotations.**"
   ]
  },
  {
   "cell_type": "code",
   "execution_count": 1,
   "metadata": {},
   "outputs": [],
   "source": [
    "import pandas as pd\n",
    "\n",
    "#define file paths\n",
    "enc_path = r'C:\\Users\\Cameron\\OneDrive - University College London\\PhD\\Year 1\\ENCAPSULIN BIOINFORMATICS AND METAGENOMICS\\encapsulin_bioinformatics_repo\\csv\\complete_enc_discovery_and_operons\\encapsulin_families.csv'\n",
    "enc_operons_path = r'C:\\Users\\Cameron\\OneDrive - University College London\\PhD\\Year 1\\ENCAPSULIN BIOINFORMATICS AND METAGENOMICS\\encapsulin_bioinformatics_repo\\csv\\complete_enc_discovery_and_operons\\operon_df_filtered.csv'\n",
    "\n",
    "#LEARNING POINT: 'r' prefix is required before the string for python to treat the backslashes literal characters instead of espace characters.\n",
    "\n",
    "#load encapsulin_families.csv file\n",
    "enc = pd.read_csv(enc_path)\n",
    "enc_operons = pd.read_csv(enc_operons_path)"
   ]
  },
  {
   "cell_type": "markdown",
   "metadata": {},
   "source": [
    "## Identifying and selecting family 3 saccharide BGC information:"
   ]
  },
  {
   "cell_type": "markdown",
   "metadata": {},
   "source": [
    "**We are only interested in family 3 saccharide BGC encapsulins, hence we selected these encapsulins from the complete putative encapsulin dataframe.**"
   ]
  },
  {
   "cell_type": "code",
   "execution_count": 2,
   "metadata": {},
   "outputs": [
    {
     "name": "stdout",
     "output_type": "stream",
     "text": [
      "Selecting DataFrame Rows...\n",
      "Number of saccharide BGC encapsulins: 22\n",
      "     Encapsulin MGYP                             Cargo Description\n",
      "0   MGYP001216717877                                Saccharide BGC\n",
      "1   MGYP001412933479                                Saccharide BGC\n",
      "2   MGYP003109322860                                Saccharide BGC\n",
      "3   MGYP003110882604                                Saccharide BGC\n",
      "4   MGYP003113059926                                Saccharide BGC\n",
      "5   MGYP003131024615                                Saccharide BGC\n",
      "6   MGYP003131986813                                Saccharide BGC\n",
      "7   MGYP003134444350                                Saccharide BGC\n",
      "8   MGYP003331015935                                Saccharide BGC\n",
      "9   MGYP003332394819                                Saccharide BGC\n",
      "10  MGYP003341041167                                Saccharide BGC\n",
      "11  MGYP003626144734                                Saccharide BGC\n",
      "12  MGYP003626701920                                Saccharide BGC\n",
      "13  MGYP003638549746                                Saccharide BGC\n",
      "14  MGYP003662477660                                Saccharide BGC\n",
      "15  MGYP003662629166                                Saccharide BGC\n",
      "16  MGYP003662771788                                Saccharide BGC\n",
      "17  MGYP001178754852  Saccharide BGC/Cysteine Desulfurase (Hybrid)\n",
      "18  MGYP003111233400  Saccharide BGC/Cysteine Desulfurase (Hybrid)\n",
      "19  MGYP003111298200  Saccharide BGC/Cysteine Desulfurase (Hybrid)\n",
      "20  MGYP003131404975  Saccharide BGC/Cysteine Desulfurase (Hybrid)\n",
      "21  MGYP003636931262  Saccharide BGC/Cysteine Desulfurase (Hybrid)\n"
     ]
    }
   ],
   "source": [
    "import pandas as pd\n",
    "import numpy as np\n",
    "\n",
    "#select family 3 saccharide BGCs from encapsulin families\n",
    "print(\"Selecting DataFrame Rows...\")\n",
    "sacc_BGCs = enc.iloc[173:195]\n",
    "sacc_BGCs.reset_index(drop=True, inplace=True)\n",
    "\n",
    "#display the number of saccharide BGC enc. \n",
    "encapsulin_column = 'Encapsulin MGYP'\n",
    "sacc_BGC_enc_count = len(sacc_BGCs[encapsulin_column])\n",
    "print(f\"Number of saccharide BGC encapsulins: {sacc_BGC_enc_count}\")\n",
    "\n",
    "#checkpoint print of dataframe\n",
    "sacc_BGCs_columns_display = ['Encapsulin MGYP', 'Cargo Description']\n",
    "print(sacc_BGCs[sacc_BGCs_columns_display])"
   ]
  },
  {
   "cell_type": "markdown",
   "metadata": {},
   "source": [
    "**From a complete encapsulin genome neighbourhood (-10 to +10) dataframe, we have only selected our interest of family 3 saccharide BGC encapsulins**"
   ]
  },
  {
   "cell_type": "code",
   "execution_count": 3,
   "metadata": {},
   "outputs": [
    {
     "name": "stdout",
     "output_type": "stream",
     "text": [
      "First Few Row:\n",
      "   -10   -9   -8   -7   -6                -5                -4  \\\n",
      "0  NaN  NaN  NaN  NaN  NaN  MGYP001273916520  MGYP001327798979   \n",
      "1  NaN  NaN  NaN  NaN  NaN               NaN               NaN   \n",
      "2  NaN  NaN  NaN  NaN  NaN               NaN               NaN   \n",
      "\n",
      "                 -3                -2                -1  ...      Pfam 1  \\\n",
      "0  MGYP001230219023  MGYP001223357618  MGYP001284084291  ...          []   \n",
      "1               NaN  MGYP003122684177  MGYP001430673539  ...  ['CL0072']   \n",
      "2               NaN               NaN  MGYP003121124808  ...          []   \n",
      "\n",
      "       Pfam 2      Pfam 3 Pfam 4 Pfam 5      Pfam 6                Pfam 7  \\\n",
      "0  ['CL0123']          []     []     []  ['CL0159']                    []   \n",
      "1          []          []     []     []          []                    []   \n",
      "2          []  ['CL0159']     []     []          []  ['CL0057', 'CL0057']   \n",
      "\n",
      "        Pfam 8       Pfam 9      Pfam 10  \n",
      "0           []  ['PF04321']  ['PF00535']  \n",
      "1           []           []           []  \n",
      "2  ['PF04542']  ['PF00535']           []  \n",
      "\n",
      "[3 rows x 41 columns]\n"
     ]
    }
   ],
   "source": [
    "import pandas as pd\n",
    "\n",
    "#define saccharide BGC enc. variable\n",
    "list_of_sacc_BGCs = sacc_BGCs['Encapsulin MGYP']\n",
    "\n",
    "#searching and selecting family 3 sacc. BCG operons\n",
    "sacc_BGCs_operon_gn_pfam = enc_operons[enc_operons['Encapsulin MGYP'].isin(list_of_sacc_BGCs)]\n",
    "sacc_BGCs_operon_gn_pfam.reset_index(drop=True, inplace=True)\n",
    "\n",
    "#validation of dataframe formation\n",
    "print(\"First Few Row:\")\n",
    "print(sacc_BGCs_operon_gn_pfam.head(3))"
   ]
  },
  {
   "cell_type": "markdown",
   "metadata": {},
   "source": [
    "## Producing new DataFrames for each putative family 3 saccharide BGC encapsulin:"
   ]
  },
  {
   "cell_type": "markdown",
   "metadata": {},
   "source": [
    "**Reformating the genome neighbourhood DataFrame into individual encapsulin dataframe with MYGP accession and Pfam info**"
   ]
  },
  {
   "cell_type": "code",
   "execution_count": null,
   "metadata": {},
   "outputs": [],
   "source": [
    "import pandas as pd\n",
    "\n",
    "# Assuming you have your original DataFrame sacc_BGCs_operon_gn_pfam\n",
    "\n",
    "#create an empty dictionary to store DataFrames\n",
    "r_sacc_BGC_operon_gn_pfam = {}\n",
    "\n",
    "#iterate through each index\n",
    "for i in range(28):\n",
    "    # extract data for the current index\n",
    "    data = {\n",
    "        'Genome Neighbourhood Location': (-10, -9, -8, -7, -6, -5, -4, -3, -2, -1, 1, 2, 3, 4, 5, 6, 7, 8, 9, 10),\n",
    "        'MGYP accessions': sacc_BGCs_operon_gn_pfam.iloc[i, 0:20].values,\n",
    "        'Pfam': sacc_BGCs_operon_gn_pfam.iloc[i, 21:].values\n",
    "    }\n",
    "\n",
    "    #create a DataFrame for the current index\n",
    "    r_sacc_BGC_operon_gn_pfam[i] = pd.DataFrame(data).copy()  #use copy() to produce another copy\n",
    "\n",
    "    #add the encapsulin_MGYP values to i=10 (operon position = 0) to the new DataFrames \n",
    "    enc_MGYP = sacc_BGCs_operon_gn_pfam.iloc[i, 20]\n",
    "    r_sacc_BGC_operon_gn_pfam[i].at[10, 'Genome Neighbourhood Location'] = '0 (Encapsulin_MGYP)'\n",
    "    r_sacc_BGC_operon_gn_pfam[i]['MGYP accessions'].iloc[10] = enc_MGYP\n",
    "    r_sacc_BGC_operon_gn_pfam[i].at[10, 'Pfam'] = '[MISANNOTATED_Pfam_PHAGE]'\n",
    "\n",
    "    #save the DataFrames as CSV files for each genome neighbourhood\n",
    "    folder_path = r'C:\\Users\\Cameron\\OneDrive - University College London\\PhD\\Year 1\\ENCAPSULIN BIOINFORMATICS AND METAGENOMICS\\encapsulin_bioinformatics_repo\\csv\\sacc_BGC_enc_operons'\n",
    "    file_names = f'sacc_BGC_operon_{i}.csv'\n",
    "    saving_path = folder_path + '\\\\' + file_names  # '\\\\' is used to concatenate the two variables with a backslash as a separator\n",
    "\n",
    "    r_sacc_BGC_operon_gn_pfam[i].to_csv(saving_path, index=False)\n",
    "\n",
    "    print(f\"DataFrame for Index {i} saved as dataframe_index_{i}.csv\")\n",
    "\n",
    "#sorry messy code need to clean it up ://\n"
   ]
  },
  {
   "cell_type": "markdown",
   "metadata": {},
   "source": [
    "**Issues Pfam accessions gene names can be found in Naails saccharide_BGCs.txt file and also some gene names from file produce Pfam accession that can be found in the DataFrame.**"
   ]
  },
  {
   "cell_type": "markdown",
   "metadata": {},
   "source": [
    "**Address later, looking protein function annotation packages to enrich dataset.**"
   ]
  },
  {
   "cell_type": "markdown",
   "metadata": {},
   "source": [
    "## Protein Function annotations for genome neighbourhoods:"
   ]
  },
  {
   "cell_type": "markdown",
   "metadata": {},
   "source": [
    "**Reformating the saccharide_BGC_genes.fasta file into individual fasta files for each encapsulin.**"
   ]
  },
  {
   "cell_type": "code",
   "execution_count": null,
   "metadata": {},
   "outputs": [],
   "source": [
    "import os\n",
    "from Bio import SeqIO\n",
    "import pandas as pd\n",
    "\n",
    "#define input and output fasta file paths\n",
    "input_fasta_file = r'C:\\Users\\Cameron\\OneDrive - University College London\\PhD\\Year 1\\ENCAPSULIN BIOINFORMATICS AND METAGENOMICS\\encapsulin_bioinformatics_repo\\family_3_saccharide_BGCs_(fasta)\\saccharide_BGC_genes.fasta'\n",
    "output_folder = r'C:\\Users\\Cameron\\OneDrive - University College London\\PhD\\Year 1\\ENCAPSULIN BIOINFORMATICS AND METAGENOMICS\\encapsulin_bioinformatics_repo\\family_3_saccharide_BGCs_(fasta)\\sacc_BGC_enc_operons'\n",
    "\n",
    "#define input folder for csv file paths\n",
    "input_folder = r'C:\\Users\\Cameron\\OneDrive - University College London\\PhD\\Year 1\\ENCAPSULIN BIOINFORMATICS AND METAGENOMICS\\encapsulin_bioinformatics_repo\\csv\\sacc_BGC_enc_operons'\n",
    "\n",
    "#list 'saccharide BGC encapsulins' dataframe with file paths\n",
    "sacc_BGC_csv_files = [f for f in os.listdir(input_folder) if f.endswith('.csv')]\n",
    "\n",
    "#iterate through each file\n",
    "for csv_file in sacc_BGC_csv_files:  # Corrected variable name\n",
    "    #form the full paths to the each file\n",
    "    csv_path = os.path.join(input_folder, csv_file)\n",
    "\n",
    "    #read the csv files into a DataFrame\n",
    "    df = pd.read_csv(csv_path)\n",
    "\n",
    "    #create a dictionary to store MGYP accessions and protein sequences\n",
    "    sequences_dict = {}\n",
    "\n",
    "    #iterate through the DataFrame\n",
    "    for index, row in df.iterrows():\n",
    "        mgyp_accession = row['MGYP accessions']\n",
    "        sequences_dict[mgyp_accession] = None\n",
    "\n",
    "    #iterate through the sequences in the input FASTA file\n",
    "    for record in SeqIO.parse(input_fasta_file, 'fasta'):\n",
    "        #check if the sequence header starts with '>'\n",
    "        if record.id.startswith('>MGYP'):\n",
    "            mgyp_accession = record.id[1:] \n",
    "            if mgyp_accession in sequences_dict:\n",
    "                sequences_dict[mgyp_accession] = str(record.seq)  #convert the sequence to a string\n",
    "\n",
    "    #create a new FASTA file with the desired sequences\n",
    "    output_fasta_file = os.path.join(output_folder, f'output_{csv_file.replace(\".csv\", \".fasta\")}')\n",
    "    with open(output_fasta_file, 'w') as output_handle:\n",
    "        for mgyp_accession, sequence in sequences_dict.items():\n",
    "            if sequence is not None:\n",
    "                output_handle.write(f'>{mgyp_accession}\\n{sequence}\\n')\n",
    "\n",
    "    print(f'New FASTA file created: {output_fasta_file}')\n"
   ]
  },
  {
   "cell_type": "code",
   "execution_count": 6,
   "metadata": {},
   "outputs": [],
   "source": [
    "import os\n",
    "from Bio import SeqIO\n",
    "import pandas as pd\n",
    "\n",
    "#define input and output fasta file paths\n",
    "input_fasta_file = r'C:\\Users\\Cameron\\OneDrive - University College London\\PhD\\Year 1\\ENCAPSULIN BIOINFORMATICS AND METAGENOMICS\\encapsulin_bioinformatics_repo\\family_3_saccharide_BGCs_(fasta)\\saccharide_BGC_genes.fasta'\n",
    "output_folder = r'C:\\Users\\Cameron\\OneDrive - University College London\\PhD\\Year 1\\ENCAPSULIN BIOINFORMATICS AND METAGENOMICS\\encapsulin_bioinformatics_repo\\family_3_saccharide_BGCs_(fasta)\\sacc_BGC_enc_operons'\n",
    "\n",
    "#define input folder for csv file paths\n",
    "input_folder = r'C:\\Users\\Cameron\\OneDrive - University College London\\PhD\\Year 1\\ENCAPSULIN BIOINFORMATICS AND METAGENOMICS\\encapsulin_bioinformatics_repo\\csv\\sacc_BGC_enc_operons'\n",
    "\n",
    "#list 'saccharide BGC encapsulins' dataframe with file paths\n",
    "sacc_BGC_csv_files = [f for f in os.listdir(input_folder) if f.endswith('.csv')]\n",
    "\n",
    "#iterate through each file\n",
    "for csv_file in sacc_BGC_csv_files:\n",
    "    #form the full paths to the each file\n",
    "    csv_path = os.path.join(input_folder, csv_file)\n",
    "\n",
    "    #read the csv files into a DataFrame\n",
    "    df1 = pd.read_csv(csv_path)\n",
    "\n"
   ]
  },
  {
   "cell_type": "markdown",
   "metadata": {},
   "source": [
    "**Protein function prediction packages using seq:**"
   ]
  },
  {
   "cell_type": "markdown",
   "metadata": {},
   "source": [
    "1. EggNOG (Cantalapiedra et al., 2021): This operation assigns functional annotations to protein sequences using EggNOG.\n",
    "\n",
    "2. InterProScan (Jones et al., 2014) : This operation searches protein sequences against multiple databases and predicts functional domains and sites.\n",
    "\n",
    "3. DeepFRI-seq (Gligorijević et al., 2021): This operation predicts protein function using deep learning models trained on protein sequence.\n"
   ]
  }
 ],
 "metadata": {
  "kernelspec": {
   "display_name": "Python 3",
   "language": "python",
   "name": "python3"
  },
  "language_info": {
   "codemirror_mode": {
    "name": "ipython",
    "version": 3
   },
   "file_extension": ".py",
   "mimetype": "text/x-python",
   "name": "python",
   "nbconvert_exporter": "python",
   "pygments_lexer": "ipython3",
   "version": "3.11.6"
  }
 },
 "nbformat": 4,
 "nbformat_minor": 2
}
