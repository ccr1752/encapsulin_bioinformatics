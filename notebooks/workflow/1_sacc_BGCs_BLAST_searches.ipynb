{
 "cells": [
  {
   "cell_type": "markdown",
   "metadata": {},
   "source": [
    "# Family 3 saccharide BGCs - Genome Discovery Using BLAST"
   ]
  },
  {
   "cell_type": "markdown",
   "metadata": {},
   "source": [
    "## Overview:\n",
    "- Import 'family_3_saccharide_BGCs FASTA file.\n",
    "- Using BLAST API to find neither the encapsulin proteins have a sequenced genome available.\n",
    "- Output the information into a DataFrame for each encapsulin BLAST search.\n",
    "    - 29 DataFrames total\n"
   ]
  },
  {
   "cell_type": "markdown",
   "metadata": {},
   "source": [
    "## Using NCBI BLAST API search with the encapsulin proteins:"
   ]
  },
  {
   "cell_type": "code",
   "execution_count": 18,
   "metadata": {},
   "outputs": [
    {
     "name": "stdout",
     "output_type": "stream",
     "text": [
      "BLAST search for family_3_MGYP003636931262 completed. Results saved to family_3_MGYP003636931262_family_3_sacc._BGC_blastp_result.xml\n",
      "BLAST search for family_3_MGYP003110882604 completed. Results saved to family_3_MGYP003110882604_family_3_sacc._BGC_blastp_result.xml\n",
      "BLAST search for family_3_MGYP003131024615 completed. Results saved to family_3_MGYP003131024615_family_3_sacc._BGC_blastp_result.xml\n",
      "BLAST search for family_3_MGYP001216717877 completed. Results saved to family_3_MGYP001216717877_family_3_sacc._BGC_blastp_result.xml\n",
      "BLAST search for family_3_MGYP003111233400 completed. Results saved to family_3_MGYP003111233400_family_3_sacc._BGC_blastp_result.xml\n",
      "BLAST search for family_3_MGYP003134444350 completed. Results saved to family_3_MGYP003134444350_family_3_sacc._BGC_blastp_result.xml\n",
      "BLAST search for family_3_MGYP001581572508 completed. Results saved to family_3_MGYP001581572508_family_3_sacc._BGC_blastp_result.xml\n",
      "BLAST search for family_3_MGYP003109322860 completed. Results saved to family_3_MGYP003109322860_family_3_sacc._BGC_blastp_result.xml\n",
      "BLAST search for family_3_MGYP003341041167 completed. Results saved to family_3_MGYP003341041167_family_3_sacc._BGC_blastp_result.xml\n"
     ]
    },
    {
     "ename": "URLError",
     "evalue": "<urlopen error [WinError 10060] A connection attempt failed because the connected party did not properly respond after a period of time, or established connection failed because connected host has failed to respond>",
     "output_type": "error",
     "traceback": [
      "\u001b[1;31m---------------------------------------------------------------------------\u001b[0m",
      "\u001b[1;31mTimeoutError\u001b[0m                              Traceback (most recent call last)",
      "File \u001b[1;32mC:\\Program Files\\WindowsApps\\PythonSoftwareFoundation.Python.3.11_3.11.1776.0_x64__qbz5n2kfra8p0\\Lib\\urllib\\request.py:1348\u001b[0m, in \u001b[0;36mAbstractHTTPHandler.do_open\u001b[1;34m(self, http_class, req, **http_conn_args)\u001b[0m\n\u001b[0;32m   1347\u001b[0m \u001b[39mtry\u001b[39;00m:\n\u001b[1;32m-> 1348\u001b[0m     h\u001b[39m.\u001b[39;49mrequest(req\u001b[39m.\u001b[39;49mget_method(), req\u001b[39m.\u001b[39;49mselector, req\u001b[39m.\u001b[39;49mdata, headers,\n\u001b[0;32m   1349\u001b[0m               encode_chunked\u001b[39m=\u001b[39;49mreq\u001b[39m.\u001b[39;49mhas_header(\u001b[39m'\u001b[39;49m\u001b[39mTransfer-encoding\u001b[39;49m\u001b[39m'\u001b[39;49m))\n\u001b[0;32m   1350\u001b[0m \u001b[39mexcept\u001b[39;00m \u001b[39mOSError\u001b[39;00m \u001b[39mas\u001b[39;00m err: \u001b[39m# timeout error\u001b[39;00m\n",
      "File \u001b[1;32mC:\\Program Files\\WindowsApps\\PythonSoftwareFoundation.Python.3.11_3.11.1776.0_x64__qbz5n2kfra8p0\\Lib\\http\\client.py:1286\u001b[0m, in \u001b[0;36mHTTPConnection.request\u001b[1;34m(self, method, url, body, headers, encode_chunked)\u001b[0m\n\u001b[0;32m   1285\u001b[0m \u001b[39m\u001b[39m\u001b[39m\"\"\"Send a complete request to the server.\"\"\"\u001b[39;00m\n\u001b[1;32m-> 1286\u001b[0m \u001b[39mself\u001b[39;49m\u001b[39m.\u001b[39;49m_send_request(method, url, body, headers, encode_chunked)\n",
      "File \u001b[1;32mC:\\Program Files\\WindowsApps\\PythonSoftwareFoundation.Python.3.11_3.11.1776.0_x64__qbz5n2kfra8p0\\Lib\\http\\client.py:1332\u001b[0m, in \u001b[0;36mHTTPConnection._send_request\u001b[1;34m(self, method, url, body, headers, encode_chunked)\u001b[0m\n\u001b[0;32m   1331\u001b[0m     body \u001b[39m=\u001b[39m _encode(body, \u001b[39m'\u001b[39m\u001b[39mbody\u001b[39m\u001b[39m'\u001b[39m)\n\u001b[1;32m-> 1332\u001b[0m \u001b[39mself\u001b[39;49m\u001b[39m.\u001b[39;49mendheaders(body, encode_chunked\u001b[39m=\u001b[39;49mencode_chunked)\n",
      "File \u001b[1;32mC:\\Program Files\\WindowsApps\\PythonSoftwareFoundation.Python.3.11_3.11.1776.0_x64__qbz5n2kfra8p0\\Lib\\http\\client.py:1281\u001b[0m, in \u001b[0;36mHTTPConnection.endheaders\u001b[1;34m(self, message_body, encode_chunked)\u001b[0m\n\u001b[0;32m   1280\u001b[0m     \u001b[39mraise\u001b[39;00m CannotSendHeader()\n\u001b[1;32m-> 1281\u001b[0m \u001b[39mself\u001b[39;49m\u001b[39m.\u001b[39;49m_send_output(message_body, encode_chunked\u001b[39m=\u001b[39;49mencode_chunked)\n",
      "File \u001b[1;32mC:\\Program Files\\WindowsApps\\PythonSoftwareFoundation.Python.3.11_3.11.1776.0_x64__qbz5n2kfra8p0\\Lib\\http\\client.py:1041\u001b[0m, in \u001b[0;36mHTTPConnection._send_output\u001b[1;34m(self, message_body, encode_chunked)\u001b[0m\n\u001b[0;32m   1040\u001b[0m \u001b[39mdel\u001b[39;00m \u001b[39mself\u001b[39m\u001b[39m.\u001b[39m_buffer[:]\n\u001b[1;32m-> 1041\u001b[0m \u001b[39mself\u001b[39;49m\u001b[39m.\u001b[39;49msend(msg)\n\u001b[0;32m   1043\u001b[0m \u001b[39mif\u001b[39;00m message_body \u001b[39mis\u001b[39;00m \u001b[39mnot\u001b[39;00m \u001b[39mNone\u001b[39;00m:\n\u001b[0;32m   1044\u001b[0m \n\u001b[0;32m   1045\u001b[0m     \u001b[39m# create a consistent interface to message_body\u001b[39;00m\n",
      "File \u001b[1;32mC:\\Program Files\\WindowsApps\\PythonSoftwareFoundation.Python.3.11_3.11.1776.0_x64__qbz5n2kfra8p0\\Lib\\http\\client.py:979\u001b[0m, in \u001b[0;36mHTTPConnection.send\u001b[1;34m(self, data)\u001b[0m\n\u001b[0;32m    978\u001b[0m \u001b[39mif\u001b[39;00m \u001b[39mself\u001b[39m\u001b[39m.\u001b[39mauto_open:\n\u001b[1;32m--> 979\u001b[0m     \u001b[39mself\u001b[39;49m\u001b[39m.\u001b[39;49mconnect()\n\u001b[0;32m    980\u001b[0m \u001b[39melse\u001b[39;00m:\n",
      "File \u001b[1;32mC:\\Program Files\\WindowsApps\\PythonSoftwareFoundation.Python.3.11_3.11.1776.0_x64__qbz5n2kfra8p0\\Lib\\http\\client.py:1451\u001b[0m, in \u001b[0;36mHTTPSConnection.connect\u001b[1;34m(self)\u001b[0m\n\u001b[0;32m   1449\u001b[0m \u001b[39m\"\u001b[39m\u001b[39mConnect to a host on a given (SSL) port.\u001b[39m\u001b[39m\"\u001b[39m\n\u001b[1;32m-> 1451\u001b[0m \u001b[39msuper\u001b[39;49m()\u001b[39m.\u001b[39;49mconnect()\n\u001b[0;32m   1453\u001b[0m \u001b[39mif\u001b[39;00m \u001b[39mself\u001b[39m\u001b[39m.\u001b[39m_tunnel_host:\n",
      "File \u001b[1;32mC:\\Program Files\\WindowsApps\\PythonSoftwareFoundation.Python.3.11_3.11.1776.0_x64__qbz5n2kfra8p0\\Lib\\http\\client.py:945\u001b[0m, in \u001b[0;36mHTTPConnection.connect\u001b[1;34m(self)\u001b[0m\n\u001b[0;32m    944\u001b[0m sys\u001b[39m.\u001b[39maudit(\u001b[39m\"\u001b[39m\u001b[39mhttp.client.connect\u001b[39m\u001b[39m\"\u001b[39m, \u001b[39mself\u001b[39m, \u001b[39mself\u001b[39m\u001b[39m.\u001b[39mhost, \u001b[39mself\u001b[39m\u001b[39m.\u001b[39mport)\n\u001b[1;32m--> 945\u001b[0m \u001b[39mself\u001b[39m\u001b[39m.\u001b[39msock \u001b[39m=\u001b[39m \u001b[39mself\u001b[39;49m\u001b[39m.\u001b[39;49m_create_connection(\n\u001b[0;32m    946\u001b[0m     (\u001b[39mself\u001b[39;49m\u001b[39m.\u001b[39;49mhost,\u001b[39mself\u001b[39;49m\u001b[39m.\u001b[39;49mport), \u001b[39mself\u001b[39;49m\u001b[39m.\u001b[39;49mtimeout, \u001b[39mself\u001b[39;49m\u001b[39m.\u001b[39;49msource_address)\n\u001b[0;32m    947\u001b[0m \u001b[39m# Might fail in OSs that don't implement TCP_NODELAY\u001b[39;00m\n",
      "File \u001b[1;32mC:\\Program Files\\WindowsApps\\PythonSoftwareFoundation.Python.3.11_3.11.1776.0_x64__qbz5n2kfra8p0\\Lib\\socket.py:851\u001b[0m, in \u001b[0;36mcreate_connection\u001b[1;34m(address, timeout, source_address, all_errors)\u001b[0m\n\u001b[0;32m    850\u001b[0m \u001b[39mif\u001b[39;00m \u001b[39mnot\u001b[39;00m all_errors:\n\u001b[1;32m--> 851\u001b[0m     \u001b[39mraise\u001b[39;00m exceptions[\u001b[39m0\u001b[39m]\n\u001b[0;32m    852\u001b[0m \u001b[39mraise\u001b[39;00m ExceptionGroup(\u001b[39m\"\u001b[39m\u001b[39mcreate_connection failed\u001b[39m\u001b[39m\"\u001b[39m, exceptions)\n",
      "File \u001b[1;32mC:\\Program Files\\WindowsApps\\PythonSoftwareFoundation.Python.3.11_3.11.1776.0_x64__qbz5n2kfra8p0\\Lib\\socket.py:836\u001b[0m, in \u001b[0;36mcreate_connection\u001b[1;34m(address, timeout, source_address, all_errors)\u001b[0m\n\u001b[0;32m    835\u001b[0m     sock\u001b[39m.\u001b[39mbind(source_address)\n\u001b[1;32m--> 836\u001b[0m sock\u001b[39m.\u001b[39mconnect(sa)\n\u001b[0;32m    837\u001b[0m \u001b[39m# Break explicitly a reference cycle\u001b[39;00m\n",
      "\u001b[1;31mTimeoutError\u001b[0m: [WinError 10060] A connection attempt failed because the connected party did not properly respond after a period of time, or established connection failed because connected host has failed to respond",
      "\nDuring handling of the above exception, another exception occurred:\n",
      "\u001b[1;31mURLError\u001b[0m                                  Traceback (most recent call last)",
      "\u001b[1;32mc:\\Users\\Cameron\\OneDrive - University College London\\PhD\\Year 1\\ENCAPSULIN BIOINFORMATICS AND METAGENOMICS\\encapsulin_bioinformatics_repo\\notebooks\\1_sacc_BGCs_BLAST_searches.ipynb Cell 4\u001b[0m line \u001b[0;36m2\n\u001b[0;32m     <a href='vscode-notebook-cell:/c%3A/Users/Cameron/OneDrive%20-%20University%20College%20London/PhD/Year%201/ENCAPSULIN%20BIOINFORMATICS%20AND%20METAGENOMICS/encapsulin_bioinformatics_repo/notebooks/1_sacc_BGCs_BLAST_searches.ipynb#W3sZmlsZQ%3D%3D?line=17'>18</a>\u001b[0m blastp_url \u001b[39m=\u001b[39m \u001b[39mf\u001b[39m\u001b[39m\"\u001b[39m\u001b[39mhttps://blast.ncbi.nlm.nih.gov/Blast.cgi?PAGE=Proteins&DATABASE=nr&BLAST_PROGRAMS=blastp&QUERY=\u001b[39m\u001b[39m{\u001b[39;00msequence\u001b[39m}\u001b[39;00m\u001b[39m&api_key=\u001b[39m\u001b[39m{\u001b[39;00mapi_key\u001b[39m}\u001b[39;00m\u001b[39m\"\u001b[39m\n\u001b[0;32m     <a href='vscode-notebook-cell:/c%3A/Users/Cameron/OneDrive%20-%20University%20College%20London/PhD/Year%201/ENCAPSULIN%20BIOINFORMATICS%20AND%20METAGENOMICS/encapsulin_bioinformatics_repo/notebooks/1_sacc_BGCs_BLAST_searches.ipynb#W3sZmlsZQ%3D%3D?line=19'>20</a>\u001b[0m \u001b[39m#perform BLAST request\u001b[39;00m\n\u001b[1;32m---> <a href='vscode-notebook-cell:/c%3A/Users/Cameron/OneDrive%20-%20University%20College%20London/PhD/Year%201/ENCAPSULIN%20BIOINFORMATICS%20AND%20METAGENOMICS/encapsulin_bioinformatics_repo/notebooks/1_sacc_BGCs_BLAST_searches.ipynb#W3sZmlsZQ%3D%3D?line=20'>21</a>\u001b[0m results_process \u001b[39m=\u001b[39m NCBIWWW\u001b[39m.\u001b[39;49mqblast(program\u001b[39m=\u001b[39;49m\u001b[39m\"\u001b[39;49m\u001b[39mblastp\u001b[39;49m\u001b[39m\"\u001b[39;49m, database\u001b[39m=\u001b[39;49m\u001b[39m\"\u001b[39;49m\u001b[39mnr\u001b[39;49m\u001b[39m\"\u001b[39;49m, sequence\u001b[39m=\u001b[39;49msequence, url_base\u001b[39m=\u001b[39;49mblastp_url)\n\u001b[0;32m     <a href='vscode-notebook-cell:/c%3A/Users/Cameron/OneDrive%20-%20University%20College%20London/PhD/Year%201/ENCAPSULIN%20BIOINFORMATICS%20AND%20METAGENOMICS/encapsulin_bioinformatics_repo/notebooks/1_sacc_BGCs_BLAST_searches.ipynb#W3sZmlsZQ%3D%3D?line=22'>23</a>\u001b[0m \u001b[39m#save the BLAST results\u001b[39;00m\n\u001b[0;32m     <a href='vscode-notebook-cell:/c%3A/Users/Cameron/OneDrive%20-%20University%20College%20London/PhD/Year%201/ENCAPSULIN%20BIOINFORMATICS%20AND%20METAGENOMICS/encapsulin_bioinformatics_repo/notebooks/1_sacc_BGCs_BLAST_searches.ipynb#W3sZmlsZQ%3D%3D?line=23'>24</a>\u001b[0m BLASTp_results_file_name \u001b[39m=\u001b[39m \u001b[39mf\u001b[39m\u001b[39m\"\u001b[39m\u001b[39m{\u001b[39;00mseq_record\u001b[39m.\u001b[39mid\u001b[39m}\u001b[39;00m\u001b[39m_family_3_sacc._BGC_blastp_result.xml\u001b[39m\u001b[39m\"\u001b[39m\n",
      "File \u001b[1;32m~\\AppData\\Local\\Packages\\PythonSoftwareFoundation.Python.3.11_qbz5n2kfra8p0\\LocalCache\\local-packages\\Python311\\site-packages\\Bio\\Blast\\NCBIWWW.py:278\u001b[0m, in \u001b[0;36mqblast\u001b[1;34m(program, database, sequence, url_base, auto_format, composition_based_statistics, db_genetic_code, endpoints, entrez_query, expect, filter, gapcosts, genetic_code, hitlist_size, i_thresh, layout, lcase_mask, matrix_name, nucl_penalty, nucl_reward, other_advanced, perc_ident, phi_pattern, query_file, query_believe_defline, query_from, query_to, searchsp_eff, service, threshold, ungapped_alignment, word_size, short_query, alignments, alignment_view, descriptions, entrez_links_new_window, expect_low, expect_high, format_entrez_query, format_object, format_type, ncbi_gi, results_file, show_overview, megablast, template_type, template_length, username, password)\u001b[0m\n\u001b[0;32m    275\u001b[0m     delay \u001b[39m=\u001b[39m \u001b[39m60\u001b[39m\n\u001b[0;32m    277\u001b[0m request \u001b[39m=\u001b[39m Request(url_base, message, {\u001b[39m\"\u001b[39m\u001b[39mUser-Agent\u001b[39m\u001b[39m\"\u001b[39m: \u001b[39m\"\u001b[39m\u001b[39mBiopythonClient\u001b[39m\u001b[39m\"\u001b[39m})\n\u001b[1;32m--> 278\u001b[0m handle \u001b[39m=\u001b[39m urlopen(request)\n\u001b[0;32m    279\u001b[0m results \u001b[39m=\u001b[39m handle\u001b[39m.\u001b[39mread()\u001b[39m.\u001b[39mdecode()\n\u001b[0;32m    281\u001b[0m \u001b[39m# Can see an \"\\n\\n\" page while results are in progress,\u001b[39;00m\n\u001b[0;32m    282\u001b[0m \u001b[39m# if so just wait a bit longer...\u001b[39;00m\n",
      "File \u001b[1;32mC:\\Program Files\\WindowsApps\\PythonSoftwareFoundation.Python.3.11_3.11.1776.0_x64__qbz5n2kfra8p0\\Lib\\urllib\\request.py:216\u001b[0m, in \u001b[0;36murlopen\u001b[1;34m(url, data, timeout, cafile, capath, cadefault, context)\u001b[0m\n\u001b[0;32m    214\u001b[0m \u001b[39melse\u001b[39;00m:\n\u001b[0;32m    215\u001b[0m     opener \u001b[39m=\u001b[39m _opener\n\u001b[1;32m--> 216\u001b[0m \u001b[39mreturn\u001b[39;00m opener\u001b[39m.\u001b[39;49mopen(url, data, timeout)\n",
      "File \u001b[1;32mC:\\Program Files\\WindowsApps\\PythonSoftwareFoundation.Python.3.11_3.11.1776.0_x64__qbz5n2kfra8p0\\Lib\\urllib\\request.py:519\u001b[0m, in \u001b[0;36mOpenerDirector.open\u001b[1;34m(self, fullurl, data, timeout)\u001b[0m\n\u001b[0;32m    516\u001b[0m     req \u001b[39m=\u001b[39m meth(req)\n\u001b[0;32m    518\u001b[0m sys\u001b[39m.\u001b[39maudit(\u001b[39m'\u001b[39m\u001b[39murllib.Request\u001b[39m\u001b[39m'\u001b[39m, req\u001b[39m.\u001b[39mfull_url, req\u001b[39m.\u001b[39mdata, req\u001b[39m.\u001b[39mheaders, req\u001b[39m.\u001b[39mget_method())\n\u001b[1;32m--> 519\u001b[0m response \u001b[39m=\u001b[39m \u001b[39mself\u001b[39;49m\u001b[39m.\u001b[39;49m_open(req, data)\n\u001b[0;32m    521\u001b[0m \u001b[39m# post-process response\u001b[39;00m\n\u001b[0;32m    522\u001b[0m meth_name \u001b[39m=\u001b[39m protocol\u001b[39m+\u001b[39m\u001b[39m\"\u001b[39m\u001b[39m_response\u001b[39m\u001b[39m\"\u001b[39m\n",
      "File \u001b[1;32mC:\\Program Files\\WindowsApps\\PythonSoftwareFoundation.Python.3.11_3.11.1776.0_x64__qbz5n2kfra8p0\\Lib\\urllib\\request.py:536\u001b[0m, in \u001b[0;36mOpenerDirector._open\u001b[1;34m(self, req, data)\u001b[0m\n\u001b[0;32m    533\u001b[0m     \u001b[39mreturn\u001b[39;00m result\n\u001b[0;32m    535\u001b[0m protocol \u001b[39m=\u001b[39m req\u001b[39m.\u001b[39mtype\n\u001b[1;32m--> 536\u001b[0m result \u001b[39m=\u001b[39m \u001b[39mself\u001b[39;49m\u001b[39m.\u001b[39;49m_call_chain(\u001b[39mself\u001b[39;49m\u001b[39m.\u001b[39;49mhandle_open, protocol, protocol \u001b[39m+\u001b[39;49m\n\u001b[0;32m    537\u001b[0m                           \u001b[39m'\u001b[39;49m\u001b[39m_open\u001b[39;49m\u001b[39m'\u001b[39;49m, req)\n\u001b[0;32m    538\u001b[0m \u001b[39mif\u001b[39;00m result:\n\u001b[0;32m    539\u001b[0m     \u001b[39mreturn\u001b[39;00m result\n",
      "File \u001b[1;32mC:\\Program Files\\WindowsApps\\PythonSoftwareFoundation.Python.3.11_3.11.1776.0_x64__qbz5n2kfra8p0\\Lib\\urllib\\request.py:496\u001b[0m, in \u001b[0;36mOpenerDirector._call_chain\u001b[1;34m(self, chain, kind, meth_name, *args)\u001b[0m\n\u001b[0;32m    494\u001b[0m \u001b[39mfor\u001b[39;00m handler \u001b[39min\u001b[39;00m handlers:\n\u001b[0;32m    495\u001b[0m     func \u001b[39m=\u001b[39m \u001b[39mgetattr\u001b[39m(handler, meth_name)\n\u001b[1;32m--> 496\u001b[0m     result \u001b[39m=\u001b[39m func(\u001b[39m*\u001b[39;49margs)\n\u001b[0;32m    497\u001b[0m     \u001b[39mif\u001b[39;00m result \u001b[39mis\u001b[39;00m \u001b[39mnot\u001b[39;00m \u001b[39mNone\u001b[39;00m:\n\u001b[0;32m    498\u001b[0m         \u001b[39mreturn\u001b[39;00m result\n",
      "File \u001b[1;32mC:\\Program Files\\WindowsApps\\PythonSoftwareFoundation.Python.3.11_3.11.1776.0_x64__qbz5n2kfra8p0\\Lib\\urllib\\request.py:1391\u001b[0m, in \u001b[0;36mHTTPSHandler.https_open\u001b[1;34m(self, req)\u001b[0m\n\u001b[0;32m   1390\u001b[0m \u001b[39mdef\u001b[39;00m \u001b[39mhttps_open\u001b[39m(\u001b[39mself\u001b[39m, req):\n\u001b[1;32m-> 1391\u001b[0m     \u001b[39mreturn\u001b[39;00m \u001b[39mself\u001b[39;49m\u001b[39m.\u001b[39;49mdo_open(http\u001b[39m.\u001b[39;49mclient\u001b[39m.\u001b[39;49mHTTPSConnection, req,\n\u001b[0;32m   1392\u001b[0m         context\u001b[39m=\u001b[39;49m\u001b[39mself\u001b[39;49m\u001b[39m.\u001b[39;49m_context, check_hostname\u001b[39m=\u001b[39;49m\u001b[39mself\u001b[39;49m\u001b[39m.\u001b[39;49m_check_hostname)\n",
      "File \u001b[1;32mC:\\Program Files\\WindowsApps\\PythonSoftwareFoundation.Python.3.11_3.11.1776.0_x64__qbz5n2kfra8p0\\Lib\\urllib\\request.py:1351\u001b[0m, in \u001b[0;36mAbstractHTTPHandler.do_open\u001b[1;34m(self, http_class, req, **http_conn_args)\u001b[0m\n\u001b[0;32m   1348\u001b[0m         h\u001b[39m.\u001b[39mrequest(req\u001b[39m.\u001b[39mget_method(), req\u001b[39m.\u001b[39mselector, req\u001b[39m.\u001b[39mdata, headers,\n\u001b[0;32m   1349\u001b[0m                   encode_chunked\u001b[39m=\u001b[39mreq\u001b[39m.\u001b[39mhas_header(\u001b[39m'\u001b[39m\u001b[39mTransfer-encoding\u001b[39m\u001b[39m'\u001b[39m))\n\u001b[0;32m   1350\u001b[0m     \u001b[39mexcept\u001b[39;00m \u001b[39mOSError\u001b[39;00m \u001b[39mas\u001b[39;00m err: \u001b[39m# timeout error\u001b[39;00m\n\u001b[1;32m-> 1351\u001b[0m         \u001b[39mraise\u001b[39;00m URLError(err)\n\u001b[0;32m   1352\u001b[0m     r \u001b[39m=\u001b[39m h\u001b[39m.\u001b[39mgetresponse()\n\u001b[0;32m   1353\u001b[0m \u001b[39mexcept\u001b[39;00m:\n",
      "\u001b[1;31mURLError\u001b[0m: <urlopen error [WinError 10060] A connection attempt failed because the connected party did not properly respond after a period of time, or established connection failed because connected host has failed to respond>"
     ]
    }
   ],
   "source": [
    "from Bio.Blast import NCBIWWW\n",
    "from Bio import SeqIO\n",
    "\n",
    "#define API key for increased access to 10 requests/second\n",
    "api_key = \"c9b038e154b263098b1022d633d445c76707\"\n",
    "\n",
    "#path to FASTA file\n",
    "family_3_fasta_file_path = r'C:\\Users\\Cameron\\OneDrive - University College London\\PhD\\Year 1\\ENCAPSULIN BIOINFORMATICS AND METAGENOMICS\\encapsulin_bioinformatics_repo\\family_3_saccharide_BGCs\\annotated_family_3.fasta'\n",
    "\n",
    "#read protein sequences from the FASTA file\n",
    "protein_sequences = list(SeqIO.parse(family_3_fasta_file_path, \"fasta\"))\n",
    "\n",
    "#perform BLASTp search for each sequence\n",
    "for seq_record in protein_sequences:\n",
    "    sequence = str(seq_record.seq)\n",
    "\n",
    "    #BLAST request URL with the API key\n",
    "    blastp_url = f\"https://blast.ncbi.nlm.nih.gov/Blast.cgi?PAGE=Proteins&DATABASE=nr&BLAST_PROGRAMS=blastp&QUERY={sequence}&api_key={api_key}\"\n",
    "\n",
    "    #perform BLAST request\n",
    "    results_process = NCBIWWW.qblast(program=\"blastp\", database=\"nr\", sequence=sequence, url_base=blastp_url)\n",
    "\n",
    "    #save the BLAST results\n",
    "    BLASTp_results_file_name = f\"{seq_record.id}_family_3_sacc._BGC_blastp_result.xml\"\n",
    "    with open(BLASTp_results_file_name, \"w\") as save_to:\n",
    "        save_to.write(results_process.read())\n",
    "\n",
    "    #close results_process\n",
    "    results_process.close()\n",
    "\n",
    "    print(f\"BLAST search for {seq_record.id} completed. Results saved to {BLASTp_results_file_name}\")\n"
   ]
  },
  {
   "cell_type": "markdown",
   "metadata": {},
   "source": [
    "## Formating the BLASTp outputs into DataFrames"
   ]
  },
  {
   "cell_type": "code",
   "execution_count": null,
   "metadata": {},
   "outputs": [],
   "source": [
    "from Bio.Blast import NCBIXML\n",
    "import pandas as pd\n",
    "\n",
    "def parse_blast_xml(xml_file, top_hits=50):\n",
    "    result_handle = open(xml_file)\n",
    "    blast_records = NCBIXML.parse(result_handle)\n",
    "    \n",
    "    data = {'Query': [], 'Subject': [], 'Identity': [], 'E-value': []}\n",
    "\n",
    "    for record in blast_records:\n",
    "        query_id = record.query_id\n",
    "        for alignment in record.alignments[:top_hits]:\n",
    "            subject_id = alignment.title\n",
    "            identity = alignment.hsps[0].identities\n",
    "            e_value = alignment.hsps[0].expect\n",
    "\n",
    "            data['Query'].append(query_id)\n",
    "            data['Subject'].append(subject_id)\n",
    "            data['Identity'].append(identity)\n",
    "            data['E-value'].append(e_value)\n",
    "\n",
    "    result_handle.close()\n",
    "    return pd.DataFrame(data)\n",
    "\n",
    "#define file paths\n",
    "blast_file_paths = [ \n",
    "    r\"C:\\Users\\Cameron\\OneDrive - University College London\\PhD\\Year 1\\ENCAPSULIN BIOINFORMATICS AND METAGENOMICS\\encapsulin_bioinformatics_repo\\BLASTp_outputs\\xml_files\\family_3_MGYP001216717877_family_3_sacc._BGC_blastp_result.xml\",\n",
    "    r\"C:\\Users\\Cameron\\OneDrive - University College London\\PhD\\Year 1\\ENCAPSULIN BIOINFORMATICS AND METAGENOMICS\\encapsulin_bioinformatics_repo\\BLASTp_outputs\\xml_files\\family_3_MGYP001581572508_family_3_sacc._BGC_blastp_result.xml\",\n",
    "    r\"C:\\Users\\Cameron\\OneDrive - University College London\\PhD\\Year 1\\ENCAPSULIN BIOINFORMATICS AND METAGENOMICS\\encapsulin_bioinformatics_repo\\BLASTp_outputs\\xml_files\\family_3_MGYP003110882604_family_3_sacc._BGC_blastp_result.xml\",\n",
    "    r\"C:\\Users\\Cameron\\OneDrive - University College London\\PhD\\Year 1\\ENCAPSULIN BIOINFORMATICS AND METAGENOMICS\\encapsulin_bioinformatics_repo\\BLASTp_outputs\\xml_files\\family_3_MGYP003111233400_family_3_sacc._BGC_blastp_result.xml\",\n",
    "    r\"C:\\Users\\Cameron\\OneDrive - University College London\\PhD\\Year 1\\ENCAPSULIN BIOINFORMATICS AND METAGENOMICS\\encapsulin_bioinformatics_repo\\BLASTp_outputs\\xml_files\\family_3_MGYP003131024615_family_3_sacc._BGC_blastp_result.xml\",\n",
    "    r\"C:\\Users\\Cameron\\OneDrive - University College London\\PhD\\Year 1\\ENCAPSULIN BIOINFORMATICS AND METAGENOMICS\\encapsulin_bioinformatics_repo\\BLASTp_outputs\\xml_files\\family_3_MGYP003134444350_family_3_sacc._BGC_blastp_result.xml\",\n",
    "    r\"C:\\Users\\Cameron\\OneDrive - University College London\\PhD\\Year 1\\ENCAPSULIN BIOINFORMATICS AND METAGENOMICS\\encapsulin_bioinformatics_repo\\BLASTp_outputs\\xml_files\\family_3_MGYP003636931262_family_3_sacc._BGC_blastp_result.xml\"\n",
    "]\n",
    "\n",
    "#process each file \n",
    "for blast_file_path in blast_file_paths:\n",
    "    #set to selecting the top_hits=50\n",
    "    blast_df = parse_blast_xml(blast_file_path, top_hits=50)\n",
    "\n",
    "    #save DataFrames to csv files\n",
    "    output_file = blast_file_path.replace('.xml', '_results.csv')\n",
    "    blast_df.to_csv(output_file, sep=',', index=False)\n",
    "    "
   ]
  }
 ],
 "metadata": {
  "kernelspec": {
   "display_name": "Python 3",
   "language": "python",
   "name": "python3"
  },
  "language_info": {
   "codemirror_mode": {
    "name": "ipython",
    "version": 3
   },
   "file_extension": ".py",
   "mimetype": "text/x-python",
   "name": "python",
   "nbconvert_exporter": "python",
   "pygments_lexer": "ipython3",
   "version": "3.11.6"
  }
 },
 "nbformat": 4,
 "nbformat_minor": 2
}
