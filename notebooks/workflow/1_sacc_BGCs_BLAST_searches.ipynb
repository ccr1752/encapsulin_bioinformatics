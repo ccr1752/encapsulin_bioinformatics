{
 "cells": [
  {
   "cell_type": "markdown",
   "metadata": {},
   "source": [
    "# Family 3 saccharide BGCs - Genome Discovery Using BLAST"
   ]
  },
  {
   "cell_type": "markdown",
   "metadata": {},
   "source": [
    "## Overview:\n",
    "- Import 'family_3_saccharide_BGCs FASTA file.\n",
    "- Using BLAST API to find neither the encapsulin proteins have a sequenced genome available.\n",
    "- Output the information into a DataFrame for each encapsulin BLAST search.\n",
    "    - 29 DataFrames total\n"
   ]
  },
  {
   "cell_type": "markdown",
   "metadata": {},
   "source": [
    "## Using NCBI BLAST API search with the encapsulin proteins:"
   ]
  },
  {
   "cell_type": "code",
   "execution_count": null,
   "metadata": {},
   "outputs": [],
   "source": [
    "from Bio.Blast import NCBIWWW\n",
    "from Bio import SeqIO\n",
    "\n",
    "# Define API key for increased access to 10 requests/second\n",
    "api_key = \"c9b038e154b263098b1022d633d445c76707\"\n",
    "\n",
    "# Path to FASTA file\n",
    "family_3_fasta_file_path = r'C:\\Users\\Cameron\\OneDrive - University College London\\PhD\\Year 1\\ENCAPSULIN BIOINFORMATICS AND METAGENOMICS\\encapsulin_bioinformatics_repo\\family_3_saccharide_BGCs_(fasta)\\annotated_family_3.fasta'\n",
    "\n",
    "# Read protein sequences from the FASTA file\n",
    "protein_sequences = list(SeqIO.parse(family_3_fasta_file_path, \"fasta\"))\n",
    "\n",
    "# Perform BLASTp search for each sequence\n",
    "for seq_record in protein_sequences:\n",
    "    sequence = str(seq_record.seq)\n",
    "\n",
    "    # BLAST request URL with the API key\n",
    "    blastp_url = f\"https://blast.ncbi.nlm.nih.gov/Blast.cgi?PAGE=Proteins&DATABASE=nr&BLAST_PROGRAMS=blastp&QUERY={sequence}&api_key={api_key}\"\n",
    "\n",
    "    try:\n",
    "        # Perform BLAST request\n",
    "        results_process = NCBIWWW.qblast(program=\"blastp\", database=\"nr\", sequence=sequence, url_base=blastp_url, alignments=50)\n",
    "\n",
    "        # Save the BLAST results\n",
    "        blastp_results_file_name = f\"{seq_record.id}_family_3_sacc._BGC_blastp_result.xml\"\n",
    "        with open(blastp_results_file_name, \"w\") as save_to:\n",
    "            save_to.write(results_process.read())\n",
    "\n",
    "        print(f\"BLAST search for {seq_record.id} completed. Results saved to {blastp_results_file_name}\")\n",
    "\n",
    "    except Exception as e:\n",
    "        print(f\"Error processing sequence {seq_record.id}: {str(e)}\")\n",
    "    finally:\n",
    "        # Close results_process\n",
    "        if 'results_process' in locals():\n",
    "            results_process.close()\n"
   ]
  },
  {
   "cell_type": "markdown",
   "metadata": {},
   "source": [
    "**Identify and BLASTp searching the remaining 7 MGYP accession numbers**"
   ]
  },
  {
   "cell_type": "markdown",
   "metadata": {},
   "source": [
    "## Formating the BLASTp outputs into DataFrames"
   ]
  },
  {
   "cell_type": "code",
   "execution_count": 17,
   "metadata": {},
   "outputs": [],
   "source": [
    "from Bio.Blast import NCBIXML\n",
    "import pandas as pd\n",
    "import os\n",
    "\n",
    "def parse_blast_xml(xml_file, top_hits=50):\n",
    "    result_handle = open(xml_file)\n",
    "    blast_records = NCBIXML.parse(result_handle)\n",
    "    \n",
    "    data = {'Query': [], 'Subject': [], 'Identity': [], 'E-value': []}\n",
    "\n",
    "    for record in blast_records:\n",
    "        query_id = record.query_id\n",
    "        for alignment in record.alignments[:top_hits]:\n",
    "            subject_id = alignment.title\n",
    "            identity = alignment.hsps[0].identities\n",
    "            e_value = alignment.hsps[0].expect\n",
    "\n",
    "            data['Query'].append(query_id)\n",
    "            data['Subject'].append(subject_id)\n",
    "            data['Identity'].append(identity)\n",
    "            data['E-value'].append(e_value)\n",
    "\n",
    "    result_handle.close()\n",
    "    return pd.DataFrame(data)\n",
    "\n",
    "# Define folder path\n",
    "folder_path = r'C:\\Users\\Cameron\\OneDrive - University College London\\PhD\\Year 1\\ENCAPSULIN BIOINFORMATICS AND METAGENOMICS\\encapsulin_bioinformatics_repo\\BLASTp_outputs\\xml_files'\n",
    "\n",
    "# Get all XML files in the folder\n",
    "blast_file_paths = [os.path.join(folder_path, file) for file in os.listdir(folder_path) if file.endswith('.xml')]\n",
    "\n",
    "# Process each file \n",
    "for blast_file_path in blast_file_paths:\n",
    "    # Set to selecting the top_hits=50\n",
    "    blast_df = parse_blast_xml(blast_file_path, top_hits=50)\n",
    "\n",
    "    # Save DataFrames to CSV files\n",
    "    output_file = blast_file_path.replace('.xml', '_results.csv')\n",
    "    blast_df.to_csv(output_file, sep=',', index=False)\n"
   ]
  },
  {
   "cell_type": "markdown",
   "metadata": {},
   "source": [
    "**Loading all formatted BLASTp results csv files**"
   ]
  },
  {
   "cell_type": "code",
   "execution_count": 20,
   "metadata": {},
   "outputs": [
    {
     "name": "stdout",
     "output_type": "stream",
     "text": [
      "['family_3_MGYP001178754852_family_3_sacc._BGC_blastp_result_results.csv', 'family_3_MGYP001216717877_family_3_sacc._BGC_blastp_result_results.csv', 'family_3_MGYP001238560740_family_3_sacc._BGC_blastp_result_results.csv', 'family_3_MGYP001437231829_family_3_sacc._BGC_blastp_result_results.csv', 'family_3_MGYP001581572508_family_3_sacc._BGC_blastp_result_results.csv', 'family_3_MGYP001595624303_family_3_sacc._BGC_blastp_result_results.csv', 'family_3_MGYP003109322860_family_3_sacc._BGC_blastp_result_results.csv', 'family_3_MGYP003110546203_family_3_sacc._BGC_blastp_result_results.csv', 'family_3_MGYP003110882604_family_3_sacc._BGC_blastp_result_results.csv', 'family_3_MGYP003111233400_family_3_sacc._BGC_blastp_result_results.csv', 'family_3_MGYP003131024615_family_3_sacc._BGC_blastp_result_results.csv', 'family_3_MGYP003131404975_family_3_sacc._BGC_blastp_result_results.csv', 'family_3_MGYP003131556693_family_3_sacc._BGC_blastp_result_results.csv', 'family_3_MGYP003134444350_family_3_sacc._BGC_blastp_result_results.csv', 'family_3_MGYP003144635947_family_3_sacc._BGC_blastp_result_results.csv', 'family_3_MGYP003341041167_family_3_sacc._BGC_blastp_result_results.csv', 'family_3_MGYP003626144734_family_3_sacc._BGC_blastp_result_results.csv', 'family_3_MGYP003626701920_family_3_sacc._BGC_blastp_result_results.csv', 'family_3_MGYP003636931262_family_3_sacc._BGC_blastp_result_results.csv', 'family_3_MGYP003638549746_family_3_sacc._BGC_blastp_result_results.csv', 'family_3_MGYP003662477660_family_3_sacc._BGC_blastp_result_results.csv', 'family_3_MGYP003662771788_family_3_sacc._BGC_blastp_result_results.csv']\n"
     ]
    }
   ],
   "source": [
    "import os\n",
    "import pandas as pd\n",
    "\n",
    "folder_path = r'C:\\Users\\Cameron\\OneDrive - University College London\\PhD\\Year 1\\ENCAPSULIN BIOINFORMATICS AND METAGENOMICS\\encapsulin_bioinformatics_repo\\BLASTp_outputs\\csv_files'\n",
    "\n",
    "#get a list of all CSV files in the folder\n",
    "csv_files = [f for f in os.listdir(folder_path) if f.endswith('.csv')]\n",
    "\n",
    "print(csv_files)\n"
   ]
  },
  {
   "cell_type": "code",
   "execution_count": 22,
   "metadata": {},
   "outputs": [],
   "source": [
    "import pandas as pd\n",
    "import os\n",
    "\n",
    "folder_path = r'C:\\Users\\Cameron\\OneDrive - University College London\\PhD\\Year 1\\ENCAPSULIN BIOINFORMATICS AND METAGENOMICS\\encapsulin_bioinformatics_repo\\BLASTp_outputs\\csv_files'\n",
    "\n",
    "# List of CSV files\n",
    "csv_files = [\n",
    "    'family_3_MGYP001178754852_family_3_sacc._BGC_blastp_result_results.csv', \n",
    "    'family_3_MGYP001216717877_family_3_sacc._BGC_blastp_result_results.csv', \n",
    "    'family_3_MGYP001238560740_family_3_sacc._BGC_blastp_result_results.csv', \n",
    "    'family_3_MGYP001437231829_family_3_sacc._BGC_blastp_result_results.csv', \n",
    "    'family_3_MGYP001581572508_family_3_sacc._BGC_blastp_result_results.csv', \n",
    "    'family_3_MGYP001595624303_family_3_sacc._BGC_blastp_result_results.csv', \n",
    "    'family_3_MGYP003109322860_family_3_sacc._BGC_blastp_result_results.csv', \n",
    "    'family_3_MGYP003110546203_family_3_sacc._BGC_blastp_result_results.csv', \n",
    "    'family_3_MGYP003110882604_family_3_sacc._BGC_blastp_result_results.csv', \n",
    "    'family_3_MGYP003111233400_family_3_sacc._BGC_blastp_result_results.csv', \n",
    "    'family_3_MGYP003131024615_family_3_sacc._BGC_blastp_result_results.csv', \n",
    "    'family_3_MGYP003131404975_family_3_sacc._BGC_blastp_result_results.csv', \n",
    "    'family_3_MGYP003131556693_family_3_sacc._BGC_blastp_result_results.csv', \n",
    "    'family_3_MGYP003134444350_family_3_sacc._BGC_blastp_result_results.csv', \n",
    "    'family_3_MGYP003144635947_family_3_sacc._BGC_blastp_result_results.csv', \n",
    "    'family_3_MGYP003341041167_family_3_sacc._BGC_blastp_result_results.csv', \n",
    "    'family_3_MGYP003626144734_family_3_sacc._BGC_blastp_result_results.csv', \n",
    "    'family_3_MGYP003626701920_family_3_sacc._BGC_blastp_result_results.csv', \n",
    "    'family_3_MGYP003636931262_family_3_sacc._BGC_blastp_result_results.csv', \n",
    "    'family_3_MGYP003638549746_family_3_sacc._BGC_blastp_result_results.csv', \n",
    "    'family_3_MGYP003662477660_family_3_sacc._BGC_blastp_result_results.csv', \n",
    "    'family_3_MGYP003662771788_family_3_sacc._BGC_blastp_result_results.csv'\n",
    "    ]\n",
    "\n",
    "# Load each CSV file into a separate DataFrame\n",
    "df1 = pd.read_csv(os.path.join(folder_path, csv_files[0]))\n",
    "df2 = pd.read_csv(os.path.join(folder_path, csv_files[1]))\n",
    "df3 = pd.read_csv(os.path.join(folder_path, csv_files[2]))\n",
    "df4 = pd.read_csv(os.path.join(folder_path, csv_files[3]))\n",
    "df5 = pd.read_csv(os.path.join(folder_path, csv_files[4]))\n",
    "df6 = pd.read_csv(os.path.join(folder_path, csv_files[5]))\n",
    "df7 = pd.read_csv(os.path.join(folder_path, csv_files[6]))\n",
    "df8 = pd.read_csv(os.path.join(folder_path, csv_files[7]))\n",
    "df9 = pd.read_csv(os.path.join(folder_path, csv_files[8]))\n",
    "df10 = pd.read_csv(os.path.join(folder_path, csv_files[9]))\n",
    "df11 = pd.read_csv(os.path.join(folder_path, csv_files[10]))\n",
    "df12 = pd.read_csv(os.path.join(folder_path, csv_files[11]))\n",
    "df13 = pd.read_csv(os.path.join(folder_path, csv_files[12]))\n",
    "df14 = pd.read_csv(os.path.join(folder_path, csv_files[13]))\n",
    "df15 = pd.read_csv(os.path.join(folder_path, csv_files[14]))\n",
    "df16 = pd.read_csv(os.path.join(folder_path, csv_files[15]))\n",
    "df17 = pd.read_csv(os.path.join(folder_path, csv_files[16]))\n",
    "df18 = pd.read_csv(os.path.join(folder_path, csv_files[17]))\n",
    "df19 = pd.read_csv(os.path.join(folder_path, csv_files[18]))\n",
    "df20 = pd.read_csv(os.path.join(folder_path, csv_files[19]))\n",
    "df21 = pd.read_csv(os.path.join(folder_path, csv_files[20]))\n",
    "df22 = pd.read_csv(os.path.join(folder_path, csv_files[21]))\n"
   ]
  }
 ],
 "metadata": {
  "kernelspec": {
   "display_name": "Python 3",
   "language": "python",
   "name": "python3"
  },
  "language_info": {
   "codemirror_mode": {
    "name": "ipython",
    "version": 3
   },
   "file_extension": ".py",
   "mimetype": "text/x-python",
   "name": "python",
   "nbconvert_exporter": "python",
   "pygments_lexer": "ipython3",
   "version": "3.11.6"
  }
 },
 "nbformat": 4,
 "nbformat_minor": 2
}
