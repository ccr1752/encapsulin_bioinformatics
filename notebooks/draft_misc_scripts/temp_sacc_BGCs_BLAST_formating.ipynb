{
 "cells": [
  {
   "cell_type": "code",
   "execution_count": 3,
   "metadata": {},
   "outputs": [],
   "source": [
    "from Bio.Blast import NCBIXML\n",
    "import pandas as pd\n",
    "\n",
    "def parse_blast_xml(xml_file, top_hits=50):\n",
    "    result_handle = open(xml_file)\n",
    "    blast_records = NCBIXML.parse(result_handle)\n",
    "    \n",
    "    data = {'Query': [], 'Subject': [], 'Identity': [], 'E-value': []}\n",
    "\n",
    "    for record in blast_records:\n",
    "        query_id = record.query_id\n",
    "        for alignment in record.alignments[:top_hits]:\n",
    "            subject_id = alignment.title\n",
    "            identity = alignment.hsps[0].identities\n",
    "            e_value = alignment.hsps[0].expect\n",
    "\n",
    "            data['Query'].append(query_id)\n",
    "            data['Subject'].append(subject_id)\n",
    "            data['Identity'].append(identity)\n",
    "            data['E-value'].append(e_value)\n",
    "\n",
    "    result_handle.close()\n",
    "    return pd.DataFrame(data)\n",
    "\n",
    "#define file paths\n",
    "blast_file_paths = [ \n",
    "    r\"C:\\Users\\Cameron\\OneDrive - University College London\\PhD\\Year 1\\ENCAPSULIN BIOINFORMATICS AND METAGENOMICS\\encapsulin_bioinformatics_repo\\BLASTp_outputs\\xml_files\\family_3_MGYP001216717877_family_3_sacc._BGC_blastp_result.xml\",\n",
    "    r\"C:\\Users\\Cameron\\OneDrive - University College London\\PhD\\Year 1\\ENCAPSULIN BIOINFORMATICS AND METAGENOMICS\\encapsulin_bioinformatics_repo\\BLASTp_outputs\\xml_files\\family_3_MGYP001581572508_family_3_sacc._BGC_blastp_result.xml\",\n",
    "    r\"C:\\Users\\Cameron\\OneDrive - University College London\\PhD\\Year 1\\ENCAPSULIN BIOINFORMATICS AND METAGENOMICS\\encapsulin_bioinformatics_repo\\BLASTp_outputs\\xml_files\\family_3_MGYP003110882604_family_3_sacc._BGC_blastp_result.xml\",\n",
    "    r\"C:\\Users\\Cameron\\OneDrive - University College London\\PhD\\Year 1\\ENCAPSULIN BIOINFORMATICS AND METAGENOMICS\\encapsulin_bioinformatics_repo\\BLASTp_outputs\\xml_files\\family_3_MGYP003111233400_family_3_sacc._BGC_blastp_result.xml\",\n",
    "    r\"C:\\Users\\Cameron\\OneDrive - University College London\\PhD\\Year 1\\ENCAPSULIN BIOINFORMATICS AND METAGENOMICS\\encapsulin_bioinformatics_repo\\BLASTp_outputs\\xml_files\\family_3_MGYP003131024615_family_3_sacc._BGC_blastp_result.xml\",\n",
    "    r\"C:\\Users\\Cameron\\OneDrive - University College London\\PhD\\Year 1\\ENCAPSULIN BIOINFORMATICS AND METAGENOMICS\\encapsulin_bioinformatics_repo\\BLASTp_outputs\\xml_files\\family_3_MGYP003134444350_family_3_sacc._BGC_blastp_result.xml\",\n",
    "    r\"C:\\Users\\Cameron\\OneDrive - University College London\\PhD\\Year 1\\ENCAPSULIN BIOINFORMATICS AND METAGENOMICS\\encapsulin_bioinformatics_repo\\BLASTp_outputs\\xml_files\\family_3_MGYP003636931262_family_3_sacc._BGC_blastp_result.xml\"\n",
    "]\n",
    "\n",
    "#process each file \n",
    "for blast_file_path in blast_file_paths:\n",
    "    #set to selecting the top_hits=50\n",
    "    blast_df = parse_blast_xml(blast_file_path, top_hits=50)\n",
    "\n",
    "    #save DataFrames to csv files\n",
    "    output_file = blast_file_path.replace('.xml', '_results.csv')\n",
    "    blast_df.to_csv(output_file, sep=',', index=False)"
   ]
  }
 ],
 "metadata": {
  "kernelspec": {
   "display_name": "Python 3",
   "language": "python",
   "name": "python3"
  },
  "language_info": {
   "codemirror_mode": {
    "name": "ipython",
    "version": 3
   },
   "file_extension": ".py",
   "mimetype": "text/x-python",
   "name": "python",
   "nbconvert_exporter": "python",
   "pygments_lexer": "ipython3",
   "version": "3.11.6"
  }
 },
 "nbformat": 4,
 "nbformat_minor": 2
}
