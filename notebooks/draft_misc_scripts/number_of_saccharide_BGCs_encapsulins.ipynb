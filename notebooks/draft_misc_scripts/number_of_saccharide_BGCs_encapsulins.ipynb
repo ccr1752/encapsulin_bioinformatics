{
 "cells": [
  {
   "cell_type": "markdown",
   "metadata": {},
   "source": [
    "Test to ensure the numher of encapsulin is consistent:"
   ]
  },
  {
   "cell_type": "code",
   "execution_count": 2,
   "metadata": {},
   "outputs": [
    {
     "name": "stdout",
     "output_type": "stream",
     "text": [
      "Number of MGYP accession numbers: 22\n"
     ]
    }
   ],
   "source": [
    "#define file path\n",
    "saccharide_BGCs = r\"C:\\Users\\Cameron\\OneDrive - University College London\\PhD\\Year 1\\ENCAPSULIN BIOINFORMATICS AND METAGENOMICS\\encapsulin_bioinformatics_repo\\txt\\saccharide_BGCs.txt\"\n",
    "\n",
    "# Open the file in read mode\n",
    "with open(saccharide_BGCs, 'r') as file:\n",
    "    # Read the content of the file\n",
    "    content = file.read()\n",
    "\n",
    "# Find all occurrences of MGYP accession numbers\n",
    "mgyp_occurrences = content.count('----------MGYP')\n",
    "\n",
    "# Print the result\n",
    "print(f\"Number of MGYP accession numbers: {mgyp_occurrences}\")\n"
   ]
  }
 ],
 "metadata": {
  "kernelspec": {
   "display_name": "Python 3",
   "language": "python",
   "name": "python3"
  },
  "language_info": {
   "codemirror_mode": {
    "name": "ipython",
    "version": 3
   },
   "file_extension": ".py",
   "mimetype": "text/x-python",
   "name": "python",
   "nbconvert_exporter": "python",
   "pygments_lexer": "ipython3",
   "version": "3.11.6"
  }
 },
 "nbformat": 4,
 "nbformat_minor": 2
}
